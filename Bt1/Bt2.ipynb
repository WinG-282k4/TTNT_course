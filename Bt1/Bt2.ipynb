{
 "cells": [
  {
   "cell_type": "markdown",
   "metadata": {},
   "source": [
    "Khởi tạo đồ thị"
   ]
  },
  {
   "cell_type": "code",
   "execution_count": 4,
   "metadata": {},
   "outputs": [
    {
     "name": "stdout",
     "output_type": "stream",
     "text": []
    }
   ],
   "source": [
    "import heapq\n",
    "import matplotlib.pyplot as plt\n",
    "import networkx as nx\n",
    "from collections import deque\n",
    "\n",
    "#khởi tạo đồ thị\n",
    "G = nx.Graph()\n",
    "G.add_edge('A', 'B', weight=4)\n",
    "G.add_edge('B', 'D', weight=2)\n",
    "G.add_edge('B', 'C', weight=3)\n",
    "G.add_edge('A', 'C', weight=6)\n",
    "G.add_edge('C', 'D', weight=4)\n",
    "G.add_edge('C', 'G', weight=2)\n",
    "G.add_edge('C', 'J', weight=4)\n",
    "G.add_edge('D', 'E', weight=1)\n",
    "G.add_edge('E', 'F', weight=1)\n",
    "G.add_edge('D', 'F', weight=4)\n",
    "G.add_edge('F', 'G', weight=2)\n",
    "G.add_edge('G', 'H', weight=2)\n",
    "G.add_edge('G', 'I', weight=5)\n",
    "G.add_edge('H', 'I', weight=3)\n",
    "G.add_edge('I', 'J', weight=3)\n",
    "G.add_edge('I', 'K', weight=2)\n",
    "G.add_edge('J', 'K', weight=2)\n",
    "\n",
    "Start = 'A'\n",
    "End = 'K'\n",
    "\n",
    "\n",
    "#vẽ đồ thị\n",
    "pos = nx.spring_layout(G)\n",
    "nx.draw(G, pos, with_labels=True)\n",
    "labels = nx.get_edge_attributes(G, 'weight')\n",
    "nx.draw_networkx_edge_labels(G, pos, edge_labels=labels)\n",
    "plt.show()"
   ]
  },
  {
   "cell_type": "markdown",
   "metadata": {},
   "source": [
    "Thuật toán BFS:\n",
    "- Đặt đỉnh xuất phát vào hàng đợi.\n",
    "- Đánh dấu đỉnh đã thăm.\n",
    "- Duyệt đồ thị:\n",
    "    Trong khi hàng đợi không rỗng:\n",
    "    Lấy đỉnh đầu hàng đợi ra.\n",
    "    Xét tất cả đỉnh kề của nó:\n",
    "    Nếu đỉnh kề chưa được thăm, thêm vào hàng đợi và đánh dấu đã thăm.\n",
    "    Nếu gặp đỉnh đích thì dừng lại.\n",
    "    Nếu hàng đợi rỗng mà vẫn chưa tìm thấy đích, nghĩa là không có đường đi."
   ]
  },
  {
   "cell_type": "code",
   "execution_count": 17,
   "metadata": {},
   "outputs": [
    {
     "name": "stdout",
     "output_type": "stream",
     "text": []
    }
   ],
   "source": [
    "def BFS(graph, start, end):\n",
    "    queue = deque([[start]])  # Hàng đợi chứa đường đi\n",
    "    visited = set()  # Tập hợp lưu đỉnh đã thăm\n",
    "    \n",
    "    while queue:\n",
    "        path = queue.popleft()  # Lấy đường đi đầu tiên trong hàng đợi\n",
    "        node = path[-1]  # Lấy đỉnh cuối cùng trong đường đi\n",
    "\n",
    "        if node == end:  # Nếu đến đích, trả về đường đi\n",
    "            return path\n",
    "        \n",
    "        if node not in visited:\n",
    "            visited.add(node)  # Đánh dấu đã thăm\n",
    "            \n",
    "            for neighbor in graph.neighbors(node):  # Lấy danh sách kề\n",
    "                new_path = list(path)  # Sao chép đường đi hiện tại\n",
    "                new_path.append(neighbor)  # Thêm đỉnh kề vào đường đi\n",
    "                queue.append(new_path)  # Đưa vào hàng đợi\n",
    "                \n",
    "    return None  # Không tìm thấy đường đi\n",
    "\n",
    "path = BFS(G, Start, End)\n",
    "path"
   ]
  },
  {
   "cell_type": "markdown",
   "metadata": {},
   "source": [
    "Biến `path` trong hàm BFS có tác dụng lưu trữ đường đi từ đỉnh xuất phát đến đỉnh hiện tại. Mỗi khi một đỉnh mới được thăm, `path` sẽ được sao chép và đỉnh mới sẽ được thêm vào `path` để tạo thành một đường đi mới. Nếu tìm thấy đỉnh đích, `path` sẽ chứa đường đi từ đỉnh xuất phát đến đỉnh đích và được trả về."
   ]
  },
  {
   "cell_type": "code",
   "execution_count": null,
   "metadata": {},
   "outputs": [
    {
     "name": "stdout",
     "output_type": "stream",
     "text": []
    }
   ],
   "source": [
    "def BFS(Graph, start, end):\n",
    "    frontier = deque([[start]])  # Hàng đợi chứa đường đi\n",
    "    explored = set()  # Tập hợp lưu đỉnh đã thăm\n",
    "\n",
    "    while frontier:\n",
    "        path = frontier.popleft()  # Lấy đường đi đầu tiên trong hàng đợi\n",
    "        node = path[-1]\n",
    "\n",
    "        if node == end:\n",
    "            return path\n",
    "        \n",
    "        if node not in explored:\n",
    "            explored.add(node)\n",
    "\n",
    "            for neighbor in Graph.neighbors(node):  # Lấy danh sách kề\n",
    "                new_path = list(path)\n",
    "                new_path.append(neighbor)\n",
    "                frontier.append(new_path)\n",
    "\n",
    "    return None  # Không tìm thấy đường đi\n",
    "\n",
    "path = BFS(G, Start, End)\n",
    "print(\"BFS Path:\", path)\n"
   ]
  },
  {
   "cell_type": "markdown",
   "metadata": {},
   "source": [
    "Thuật toán DFS:\n",
    "- Đặt đỉnh xuất phát vào ngăn xếp.\n",
    "- Đánh dấu đỉnh này là đã thăm.\n",
    "- Duyệt đồ thị:\n",
    "    Trong khi ngăn xếp không rỗng:\n",
    "    Lấy một đỉnh ra khỏi stack\n",
    "    Xét tất cả đỉnh kề của nó:\n",
    "    Nếu đỉnh kề chưa được thăm, đẩy vào ngăn xếp và đánh dấu đã thăm.\n",
    "    \n",
    "    Nếu gặp đỉnh đích thì dừng lại.\n",
    "\n",
    "    Nếu ngăn xếp rỗng mà vẫn chưa tìm thấy đích, nghĩa là không có đường đi."
   ]
  },
  {
   "cell_type": "code",
   "execution_count": null,
   "metadata": {},
   "outputs": [
    {
     "name": "stdout",
     "output_type": "stream",
     "text": []
    }
   ],
   "source": [
    "def DFS(graph, start, end):\n",
    "    stack = [[start]]  # Hàng đợi chứa đường đi\n",
    "    visited = set()  # Tập hợp lưu đỉnh đã thăm\n",
    "    \n",
    "    while stack:\n",
    "        path = stack.pop()  # Lấy đỉnh cuối trong stack\n",
    "        node = path[-1]  # Lấy đỉnh cuối cùng trong đường đi\n",
    "\n",
    "        if node == end:  # Nếu đến đích, trả về đường đi\n",
    "            return path\n",
    "        \n",
    "        if node not in visited:\n",
    "            visited.add(node)  # Đánh dấu đã thăm\n",
    "            \n",
    "            for neighbor in graph.neighbors(node):  # Lấy danh sách kề\n",
    "                new_path = list(path)  # Sao chép đường đi hiện tại\n",
    "                new_path.append(neighbor)  # Thêm đỉnh kề vào đường đi\n",
    "                stack.append(new_path)  # Đưa vào stack\n",
    "                \n",
    "    return None  # Không tìm thấy đường đi\n",
    "\n",
    "path = DFS(G, Start, End)\n",
    "path"
   ]
  },
  {
   "cell_type": "code",
   "execution_count": 8,
   "metadata": {},
   "outputs": [
    {
     "name": "stdout",
     "output_type": "stream",
     "text": []
    }
   ],
   "source": [
    "def DFS(Graph, start, end):\n",
    "    frontier = [[start]]\n",
    "    explored = set()  # Tập hợp lưu đỉnh đã thăm\n",
    "    \n",
    "    while frontier:\n",
    "        path = frontier.pop()\n",
    "        node = path[-1]\n",
    "        if node == end:\n",
    "            return path\n",
    "        \n",
    "        if node not in explored:\n",
    "            explored.add(node)\n",
    "            \n",
    "            for neighbor in Graph.neighbors(node):\n",
    "                new_path = list(path)\n",
    "                new_path.append(neighbor)\n",
    "                frontier.append(new_path)\n",
    "    \n",
    "    return None  # Không tìm thấy đường đi\n",
    "\n",
    "path = DFS(G, Start, End)\n",
    "print(\"DFS Path:\", path)"
   ]
  },
  {
   "cell_type": "markdown",
   "metadata": {},
   "source": [
    "Thuật toán UCS\n",
    "- Đưa đỉnh xuất phát vào hàng đợi ưu tiên với chi phí bằng 0.\n",
    "- Duyệt đồ thị:\n",
    "    Trong khi hàng đợi ưu tiên không rỗng:\n",
    "    Lấy đỉnh có chi phí nhỏ nhất ra.\n",
    "    Nếu đỉnh này là đích → dừng lại.\n",
    "    Xét tất cả đỉnh kề:\n",
    "    \n",
    "    Nếu đường đi mới có chi phí nhỏ hơn đường cũ, cập nhật chi phí và thêm vào hàng đợi.\n",
    "    \n",
    "    Nếu hàng đợi rỗng mà vẫn chưa tìm thấy đích, nghĩa là không có đường đi."
   ]
  },
  {
   "cell_type": "code",
   "execution_count": 24,
   "metadata": {},
   "outputs": [
    {
     "name": "stdout",
     "output_type": "stream",
     "text": []
    }
   ],
   "source": [
    "def UCS(graph, start, end):\n",
    "    queue = [[0, start]]  # Hàng đợi chứa đường đi\n",
    "    visited = set()  # Tập hợp lưu đỉnh đã thăm\n",
    "    \n",
    "    while queue:\n",
    "        cost, path = heapq.heappop(queue)  # Lấy đường đi đầu tiên trong hàng đợi\n",
    "        node = path[-1]  # Lấy đỉnh cuối cùng trong đường đi path đang xét\n",
    "\n",
    "        if node == end:  # Nếu đến đích, trả về đường đi\n",
    "            return path\n",
    "        \n",
    "        if node not in visited:\n",
    "            visited.add(node)  # Đánh dấu đã thăm\n",
    "            \n",
    "            for neighbor in graph.neighbors(node):  # Lấy danh sách kề\n",
    "                new_path = list(path)  # Sao chép đường đi hiện tại\n",
    "                new_path.append(neighbor)  # Thêm đỉnh kề vào đường đi\n",
    "                new_cost = cost + graph[node][neighbor]['weight']  # Tính chi phí mới\n",
    "                heapq.heappush(queue, [new_cost, new_path])  # Đưa vào hàng đợi\n",
    "                \n",
    "    return None  # Không tìm thấy đường đi\n",
    "\n",
    "path = UCS(G, Start, End)\n",
    "path"
   ]
  },
  {
   "cell_type": "code",
   "execution_count": 9,
   "metadata": {},
   "outputs": [
    {
     "name": "stdout",
     "output_type": "stream",
     "text": []
    }
   ],
   "source": [
    "def UCS(Graph, start, end):\n",
    "\n",
    "    frontier = [[0, start]]  # Hàng đợi chứa đường đi\n",
    "    explored = set()  # Tập hợp lưu đỉnh đã thăm\n",
    "\n",
    "    while frontier:\n",
    "\n",
    "        cost, path = heapq.heappop(frontier)\n",
    "        node = path[-1]\n",
    "        if node == end:\n",
    "            return path\n",
    "        \n",
    "        if node not in explored:\n",
    "            explored.add(node)\n",
    "\n",
    "            for neighbor in Graph.neighbors(node):\n",
    "                new_path = list(path)\n",
    "                new_path.append(neighbor)\n",
    "                new_cost = cost + Graph[node][neighbor]['weight']\n",
    "                heapq.heappush(frontier, [new_cost, new_path])\n",
    "\n",
    "    return None  # Không tìm thấy đường đi\n",
    "\n",
    "path = UCS(G, Start, End)\n",
    "print(\"UCS Path:\", path)"
   ]
  }
 ],
 "metadata": {
  "kernelspec": {
   "display_name": "venv",
   "language": "python",
   "name": "python3"
  },
  "language_info": {
   "codemirror_mode": {
    "name": "ipython",
    "version": 3
   },
   "file_extension": ".py",
   "mimetype": "text/x-python",
   "name": "python",
   "nbconvert_exporter": "python",
   "pygments_lexer": "ipython3",
   "version": "3.10.11"
  }
 },
 "nbformat": 4,
 "nbformat_minor": 2
}
