{
 "cells": [
  {
   "cell_type": "markdown",
   "metadata": {},
   "source": [
    "Tạo môt mê cung"
   ]
  },
  {
   "cell_type": "code",
   "execution_count": 52,
   "metadata": {},
   "outputs": [
    {
     "data": {
      "text/plain": [
       "[[0, 1, 0, 0, 0, 1, 0, 0, 0, 1, 0, 0],\n",
       " [0, 1, 0, 1, 0, 1, 0, 1, 0, 1, 0, 1],\n",
       " [0, 0, 0, 1, 0, 0, 0, 1, 0, 0, 0, 0],\n",
       " [1, 1, 0, 1, 1, 1, 0, 1, 1, 1, 1, 0],\n",
       " [0, 0, 0, 0, 0, 1, 0, 0, 0, 1, 0, 0],\n",
       " [0, 1, 1, 1, 0, 1, 1, 1, 0, 1, 1, 0],\n",
       " [0, 0, 0, 0, 0, 0, 0, 1, 0, 0, 0, 0]]"
      ]
     },
     "execution_count": 52,
     "metadata": {},
     "output_type": "execute_result"
    }
   ],
   "source": [
    "from collections import deque\n",
    "\n",
    "# Tạo mê cung: mỗi ô có thể là ô trống 0 hoặc ô tường 1\n",
    "# S là điểm bắt đầu, e là kết thúc\n",
    "maze = [\n",
    "    [0, 1, 0, 0, 0, 1, 0, 0, 0, 1, 0, 0],\n",
    "    [0, 1, 0, 1, 0, 1, 0, 1, 0, 1, 0, 1],\n",
    "    [0, 0, 0, 1, 0, 0, 0, 1, 0, 0, 0, 0],\n",
    "    [1, 1, 0, 1, 1, 1, 0, 1, 1, 1, 1, 0],\n",
    "    [0, 0, 0, 0, 0, 1, 0, 0, 0, 1, 0, 0],\n",
    "    [0, 1, 1, 1, 0, 1, 1, 1, 0, 1, 1, 0],\n",
    "    [0, 0, 0, 0, 0, 0, 0, 1, 0, 0, 0, 0]\n",
    "]\n",
    "\n",
    "start = (0, 0)\n",
    "end = (6, 11)\n",
    "\n",
    "maze\n"
   ]
  },
  {
   "cell_type": "markdown",
   "metadata": {},
   "source": [
    "Hàm tìm kiếm BFS:\n",
    "- Tạo hàng đợi (queue) chứa vị trí bắt đầu start.\n",
    "- Tạo tập visited để lưu các ô đã đi qua, đồng thời lưu ô cha để truy vết đường đi.\n",
    "- Định nghĩa các hướng di chuyển: Trái, Phải, Lên, Xuống.\n",
    "- Lặp đến khi queue rỗng hoặc tìm thấy end:\n",
    "    Lấy ô hiện tại current từ queue.\n",
    "    Nếu current == end, thoát vòng lặp vì đã tìm thấy đường đi.\n",
    "    Xét các ô lân cận (trái, phải, lên, xuống):\n",
    "    Nếu ô hợp lệ (nằm trong mê cung, không phải tường, chưa được thăm), thì:\n",
    "    Thêm vào queue để tiếp tục duyệt.\n",
    "    Đánh dấu trong visited, lưu lại ô cha.\n",
    "- Truy vết đường đi\n",
    "    Nếu end không có trong visited, trả về [] (không có đường đi).\n",
    "    Ngược lại, truy vết lại đường đi từ end về start bằng visited:\n",
    "    Khởi tạo danh sách path = [].\n",
    "    Dùng vòng lặp while end is not None, lần theo các ô cha từ end về start, thêm vào path.\n",
    "    Đảo ngược path để có đường đi đúng thứ tự.\n",
    "    Trả về path là đường đi ngắn nhất."
   ]
  },
  {
   "cell_type": "code",
   "execution_count": 53,
   "metadata": {},
   "outputs": [
    {
     "data": {
      "text/plain": [
       "[(0, 0),\n",
       " (1, 0),\n",
       " (2, 0),\n",
       " (2, 1),\n",
       " (2, 2),\n",
       " (1, 2),\n",
       " (0, 2),\n",
       " (0, 3),\n",
       " (0, 4),\n",
       " (1, 4),\n",
       " (2, 4),\n",
       " (2, 5),\n",
       " (2, 6),\n",
       " (3, 6),\n",
       " (4, 6),\n",
       " (4, 7),\n",
       " (4, 8),\n",
       " (5, 8),\n",
       " (6, 8),\n",
       " (6, 9),\n",
       " (6, 10),\n",
       " (6, 11)]"
      ]
     },
     "execution_count": 53,
     "metadata": {},
     "output_type": "execute_result"
    }
   ],
   "source": [
    "#Thuật toán BFS \n",
    "def BFS(maze, start, end):\n",
    "\n",
    "    # Tạo hàng đợi \n",
    "    queue = deque([start])\n",
    "    visited = {start: None }\n",
    "    current = None\n",
    "\n",
    "    #Duyệt mê cung\n",
    "    while queue:\n",
    "        current = queue.popleft()\n",
    "\n",
    "        #Nếu tìm thấy đích thì dừng lại\n",
    "        if current == end:\n",
    "            break\n",
    "\n",
    "        #Xét các ô xung quanh\n",
    "        for row, col in [(0, 1), (1, 0), (0, -1), (-1, 0)]: #Xét các hướng di chuyển 4 hướng: lên xuống trái phải\n",
    "            neighbor = (current[0] + row, current[1] + col)\n",
    "\n",
    "            #Kiểm tra hợp lệ\n",
    "            if 0 <= neighbor[0] < len(maze) and 0 <= neighbor[1] < len(maze[0]) and maze[neighbor[0]][neighbor[1]] == 0 and neighbor not in visited:\n",
    "                queue.append(neighbor)\n",
    "                visited[neighbor] = current\n",
    "\n",
    "    # Truy vết đường đi\n",
    "    path = []\n",
    "\n",
    "     #Nếu node hiện tại ko phải là đích, ko có đường đi\n",
    "    if current != end:\n",
    "        return \"ko có đường đi\"\n",
    "    while current is not None:\n",
    "        path.append(current)\n",
    "        current = visited[current]\n",
    "    \n",
    "    #trả về đảo ngược đường đi\n",
    "    return path[::-1]\n",
    "\n",
    "BFS(maze, start, end)"
   ]
  },
  {
   "cell_type": "markdown",
   "metadata": {},
   "source": [
    "Thuật toán DFS:\n",
    "- Tạo stack (hoặc gọi đệ quy) để lưu các ô đang xét.\n",
    "- Tạo tập visited để ghi nhận các ô đã đi qua.\n",
    "- Định nghĩa hướng di chuyển: Trái, Phải, Lên, Xuống.\n",
    "- Lặp đến khi stack rỗng hoặc tìm thấy end:\n",
    "    Lấy ô hiện tại current từ stack.\n",
    "    Nếu current == end, thoát vòng lặp vì đã tìm thấy đường đi.\n",
    "    Xét các ô lân cận (trái, phải, lên, xuống):\n",
    "    Nếu ô hợp lệ (nằm trong mê cung, không phải tường, chưa được thăm), thì:\n",
    "    Đưa vào stack (hoặc gọi đệ quy).\n",
    "    Đánh dấu trong visited, lưu lại ô cha để truy vết.\n",
    "- Truy vết đường đi tương tự BFS"
   ]
  },
  {
   "cell_type": "code",
   "execution_count": 54,
   "metadata": {},
   "outputs": [
    {
     "data": {
      "text/plain": [
       "[(0, 0),\n",
       " (1, 0),\n",
       " (2, 0),\n",
       " (2, 1),\n",
       " (2, 2),\n",
       " (1, 2),\n",
       " (0, 2),\n",
       " (0, 3),\n",
       " (0, 4),\n",
       " (1, 4),\n",
       " (2, 4),\n",
       " (2, 5),\n",
       " (2, 6),\n",
       " (1, 6),\n",
       " (0, 6),\n",
       " (0, 7),\n",
       " (0, 8),\n",
       " (1, 8),\n",
       " (2, 8),\n",
       " (2, 9),\n",
       " (2, 10),\n",
       " (2, 11),\n",
       " (3, 11),\n",
       " (4, 11),\n",
       " (5, 11),\n",
       " (6, 11)]"
      ]
     },
     "execution_count": 54,
     "metadata": {},
     "output_type": "execute_result"
    }
   ],
   "source": [
    "# Thuật toán DFS:\n",
    "def DFS(maze, start, end):\n",
    "\n",
    "    #Khởi tạo stack và visited\n",
    "    stack = [start]\n",
    "    visited = {start: None}\n",
    "    current = None\n",
    "\n",
    "    #Duyệt mê cung \n",
    "    while stack:\n",
    "\n",
    "        current = stack.pop()\n",
    "\n",
    "        #Nếu tìm thấy đích thì dừng lại\n",
    "        if current == end:\n",
    "            break\n",
    "        \n",
    "        #Xét các ô xung quanh\n",
    "        for row, col in [(0, 1), (1, 0), (0, -1), (-1, 0)]: #Xét các hướng di chuyển 4 hướng: lên xuống trái phải\n",
    "            neighbor = (current[0] + row, current[1] + col)\n",
    "            if 0 <= neighbor[0] < len(maze) and 0 <= neighbor[1] < len(maze[0]) and maze[neighbor[0]][neighbor[1]] == 0 and neighbor not in visited:\n",
    "                stack.append(neighbor)\n",
    "                visited[neighbor] = current\n",
    "    \n",
    "    #truy vết dường đi\n",
    "    path = []\n",
    "\n",
    "    #Nếu node hiện tại ko phải là đích, ko có đường đi\n",
    "    if current != end:\n",
    "        return \"ko có đường đi\"\n",
    "    \n",
    "    #quay lui để tìm đường đi\n",
    "    while current is not None:\n",
    "        path.append(current)\n",
    "        current = visited[current]\n",
    "    return path[::-1]\n",
    "\n",
    "DFS(maze, start, end)"
   ]
  },
  {
   "cell_type": "markdown",
   "metadata": {},
   "source": [
    "Thuật toán UCS:\n",
    "- Tạo hàng đợi ưu tiên priority_queue, thêm start với chi phí 0.\n",
    "- Tạo tập visited để lưu chi phí tối ưu đến từng ô.\n",
    "- Tạo parent để lưu đường đi ngược lại.\n",
    "- Lặp đến khi hàng đợi rỗng hoặc tìm thấy end:\n",
    "    Lấy ô có chi phí nhỏ nhất từ hàng đợi.\n",
    "    Nếu ô là end, thoát vòng lặp.\n",
    "    Xét các ô lân cận (trái, phải, lên, xuống):\n",
    "    Tính chi phí mới nếu đi qua ô đó.\n",
    "    Nếu ô chưa được xét hoặc có chi phí nhỏ hơn trước đó, cập nhật visited và thêm vào hàng đợi.\n",
    "- Truy vết tương tự BFS"
   ]
  },
  {
   "cell_type": "code",
   "execution_count": 55,
   "metadata": {},
   "outputs": [
    {
     "data": {
      "text/plain": [
       "[(0, 0),\n",
       " (1, 0),\n",
       " (2, 0),\n",
       " (2, 1),\n",
       " (2, 2),\n",
       " (1, 2),\n",
       " (0, 2),\n",
       " (0, 3),\n",
       " (0, 4),\n",
       " (1, 4),\n",
       " (2, 4),\n",
       " (2, 5),\n",
       " (2, 6),\n",
       " (3, 6),\n",
       " (4, 6),\n",
       " (4, 7),\n",
       " (4, 8),\n",
       " (5, 8),\n",
       " (6, 8),\n",
       " (6, 9),\n",
       " (6, 10),\n",
       " (6, 11)]"
      ]
     },
     "execution_count": 55,
     "metadata": {},
     "output_type": "execute_result"
    }
   ],
   "source": [
    "import heapq\n",
    "\n",
    "#Thuật toán UCS: Giả sử chi phí đi qua mỗi ô là 1\n",
    "def UCS(maze, start, end):\n",
    "\n",
    "    priority_queue = [(0, start)]  # (cost, (row, col))\n",
    "    visited = {start: 0}  # Lưu chi phí tối ưu đến từng ô\n",
    "    parent = {start: None}  # Lưu ô cha để truy vết đường đi\n",
    "    directions = [(0, 1), (1, 0), (0, -1), (-1, 0)]  # Phải, Xuống, Trái, Lên\n",
    "\n",
    "    while priority_queue:\n",
    "        cost, current = heapq.heappop(priority_queue)  # Lấy ô có chi phí nhỏ nhất\n",
    "\n",
    "        if current == end:\n",
    "            break  # Tìm thấy đường đi tối ưu\n",
    "\n",
    "        for row, col in directions:\n",
    "\n",
    "            # Lấy vị trí ô kế tiếp cần xét\n",
    "            neighbor = (current[0] + row, current[1] + col )\n",
    "\n",
    "            if (0 <= neighbor[0] < len(maze) and \n",
    "                0 <= neighbor[1] < len(maze[0]) and \n",
    "                maze[neighbor[0]][neighbor[1]] == 0):\n",
    "\n",
    "                new_cost = cost + 1  # Chi phí đi qua ô này\n",
    "\n",
    "                # Nếu chưa đi qua ô này hoặc chi phí mới nhỏ hơn chi phí cũ\n",
    "                if neighbor not in visited or new_cost < visited[neighbor]:\n",
    "\n",
    "                    #Cập nhập chi phí và đường đi\n",
    "                    visited[neighbor] = new_cost\n",
    "                    parent[neighbor] = current\n",
    "\n",
    "                    #Thêm vào hàng đợi ưu tiên\n",
    "                    heapq.heappush(priority_queue, (new_cost, neighbor))\n",
    "                    \n",
    "        # print(priority_queue)\n",
    "        # print(\"\\n\")\n",
    "\n",
    "    #Truy vết đường đi\n",
    "    if end not in visited:\n",
    "        return []  # Không tìm thấy đường đi\n",
    "\n",
    "    path = []\n",
    "    while end is not None:\n",
    "        path.append(end)\n",
    "        end = parent[end]\n",
    "\n",
    "    return path[::-1]\n",
    "\n",
    "UCS(maze, start, end)"
   ]
  }
 ],
 "metadata": {
  "kernelspec": {
   "display_name": "venv",
   "language": "python",
   "name": "python3"
  },
  "language_info": {
   "codemirror_mode": {
    "name": "ipython",
    "version": 3
   },
   "file_extension": ".py",
   "mimetype": "text/x-python",
   "name": "python",
   "nbconvert_exporter": "python",
   "pygments_lexer": "ipython3",
   "version": "3.10.11"
  }
 },
 "nbformat": 4,
 "nbformat_minor": 2
}
