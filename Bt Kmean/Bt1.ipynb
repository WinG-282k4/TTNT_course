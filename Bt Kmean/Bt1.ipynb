{
 "cells": [
  {
   "cell_type": "code",
   "execution_count": 16,
   "metadata": {},
   "outputs": [],
   "source": [
    "import numpy as np\n",
    "import pandas as pd\n",
    "from sklearn.datasets import load_wine\n",
    "from sklearn.model_selection import train_test_split\n",
    "from sklearn.preprocessing import StandardScaler\n",
    "from sklearn.linear_model import LinearRegression\n",
    "from sklearn.metrics import mean_squared_error, r2_score, accuracy_score\n",
    "import matplotlib.pyplot as plt"
   ]
  },
  {
   "cell_type": "code",
   "execution_count": 17,
   "metadata": {},
   "outputs": [
    {
     "name": "stdout",
     "output_type": "stream",
     "text": [
      "Dataset Information:\n",
      "Number of samples: 178\n",
      "Number of features: 13\n",
      "\n",
      "Features:\n",
      "- alcohol\n",
      "- malic_acid\n",
      "- ash\n",
      "- alcalinity_of_ash\n",
      "- magnesium\n",
      "- total_phenols\n",
      "- flavanoids\n",
      "- nonflavanoid_phenols\n",
      "- proanthocyanins\n",
      "- color_intensity\n",
      "- hue\n",
      "- od280/od315_of_diluted_wines\n",
      "- proline\n",
      "\n",
      "Original Class Distribution:\n",
      "0    59\n",
      "1    71\n",
      "2    48\n",
      "Name: count, dtype: int64\n"
     ]
    }
   ],
   "source": [
    "# Load Wine dataset\n",
    "wine = load_wine()\n",
    "X = wine.data\n",
    "y = wine.target\n",
    "\n",
    "print(\"Dataset Information:\")\n",
    "print(f\"Number of samples: {X.shape[0]}\")\n",
    "print(f\"Number of features: {X.shape[1]}\")\n",
    "print(\"\\nFeatures:\")\n",
    "for feature in wine.feature_names:\n",
    "    print(f\"- {feature}\")\n",
    "\n",
    "print(\"\\nOriginal Class Distribution:\")\n",
    "print(pd.Series(y).value_counts().sort_index())"
   ]
  },
  {
   "cell_type": "code",
   "execution_count": 19,
   "metadata": {},
   "outputs": [
    {
     "name": "stdout",
     "output_type": "stream",
     "text": [
      "\n",
      "New Class Distribution (after splitting class 2):\n",
      "0    59\n",
      "1    71\n",
      "2    24\n",
      "3    24\n",
      "Name: count, dtype: int64\n"
     ]
    }
   ],
   "source": [
    "# Thêm một class mới bằng cách chia class 2 thành 2 nhóm\n",
    "# để có tổng cộng 4 class theo yêu cầu\n",
    "mask_class2 = y == 2\n",
    "X_class2 = X[mask_class2]\n",
    "y_class2 = y[mask_class2]\n",
    "\n",
    "# Chia class 2 thành 2 nhóm dựa trên một feature (ví dụ: alcohol content)\n",
    "median = np.median(X_class2[:, 0])  # Sử dụng feature đầu tiên\n",
    "y_class2_new = np.where(X_class2[:, 0] > median, 3, 2)\n",
    "\n",
    "# Gộp lại dataset\n",
    "X_new = np.vstack([X[~mask_class2], X_class2])\n",
    "y_new = np.hstack([y[~mask_class2], y_class2_new])\n",
    "\n",
    "print(\"\\nNew Class Distribution (after splitting class 2):\")\n",
    "print(pd.Series(y_new).value_counts().sort_index())"
   ]
  },
  {
   "cell_type": "code",
   "execution_count": 20,
   "metadata": {},
   "outputs": [
    {
     "name": "stdout",
     "output_type": "stream",
     "text": [
      "\n",
      "Model Performance Metrics:\n",
      "Mean Squared Error: 0.1944\n",
      "R-squared Score: 0.8107\n",
      "Accuracy: 0.8056\n"
     ]
    }
   ],
   "source": [
    "# Split into training and testing sets\n",
    "X_train, X_test, y_train, y_test = train_test_split(X_new, y_new, test_size=0.2, random_state=42)\n",
    "\n",
    "# Scale the features\n",
    "scaler = StandardScaler()\n",
    "X_train_scaled = scaler.fit_transform(X_train)\n",
    "X_test_scaled = scaler.transform(X_test)\n",
    "\n",
    "# Create and train Linear Regression model\n",
    "model = LinearRegression()\n",
    "model.fit(X_train_scaled, y_train)\n",
    "\n",
    "# Make predictions\n",
    "y_pred = model.predict(X_test_scaled)\n",
    "\n",
    "# Round predictions to nearest integer and clip to valid class range\n",
    "y_pred_rounded = np.round(y_pred).clip(0, 3).astype(int)\n",
    "\n",
    "# Calculate performance metrics\n",
    "mse = mean_squared_error(y_test, y_pred_rounded)\n",
    "r2 = r2_score(y_test, y_pred_rounded)\n",
    "accuracy = accuracy_score(y_test, y_pred_rounded)\n",
    "\n",
    "print(\"\\nModel Performance Metrics:\")\n",
    "print(f\"Mean Squared Error: {mse:.4f}\")\n",
    "print(f\"R-squared Score: {r2:.4f}\")\n",
    "print(f\"Accuracy: {accuracy:.4f}\")"
   ]
  }
 ],
 "metadata": {
  "kernelspec": {
   "display_name": "Python 3",
   "language": "python",
   "name": "python3"
  },
  "language_info": {
   "codemirror_mode": {
    "name": "ipython",
    "version": 3
   },
   "file_extension": ".py",
   "mimetype": "text/x-python",
   "name": "python",
   "nbconvert_exporter": "python",
   "pygments_lexer": "ipython3",
   "version": "3.13.1"
  }
 },
 "nbformat": 4,
 "nbformat_minor": 2
}
