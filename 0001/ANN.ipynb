{
 "cells": [
  {
   "cell_type": "code",
   "execution_count": 1,
   "id": "6fe0cbd9",
   "metadata": {},
   "outputs": [],
   "source": [
    "import pandas as pd\n",
    "import numpy as np\n",
    "from sklearn.neural_network import MLPClassifier\n",
    "from sklearn.preprocessing import StandardScaler, LabelEncoder"
   ]
  },
  {
   "cell_type": "code",
   "execution_count": 4,
   "id": "ce0aa6b8",
   "metadata": {},
   "outputs": [],
   "source": [
    "def classify_iris_ann(train_file, test_file):\n",
    "    \"\"\"Phân loại hoa Iris bằng ANN với tệp train/test linh hoạt\"\"\"\n",
    "    try:\n",
    "        # Đọc dữ liệu train\n",
    "        train_data = pd.read_csv(train_file, header=None)\n",
    "        X_train = train_data.iloc[:, :-1].values  # 4 đặc trưng\n",
    "        y_train = train_data.iloc[:, -1].values   # Nhãn\n",
    "        \n",
    "        # Đọc dữ liệu test\n",
    "        test_data = pd.read_csv(test_file, header=None)\n",
    "        X_test = test_data.iloc[:, :4].values     # Chỉ lấy 4 đặc trưng\n",
    "        \n",
    "    except FileNotFoundError as e:\n",
    "        print(f\"Error: File not found - {e}\")\n",
    "        return None\n",
    "    except Exception as e:\n",
    "        print(f\"Error reading files: {e}\")\n",
    "        return None\n",
    "    \n",
    "    # Mã hóa nhãn\n",
    "    le = LabelEncoder()\n",
    "    y_encoded = le.fit_transform(y_train)\n",
    "    \n",
    "    # Chuẩn hóa dữ liệu\n",
    "    scaler = StandardScaler()\n",
    "    X_train = scaler.fit_transform(X_train)\n",
    "    X_test = scaler.transform(X_test)\n",
    "    \n",
    "    # # Xây dựng ANN (slide trang 65)\n",
    "    ann = MLPClassifier(hidden_layer_sizes=(10,), activation='relu',\n",
    "                          solver='adam', max_iter=2000, random_state=42)\n",
    "    \n",
    "    # # Huấn luyện\n",
    "    ann.fit(X_train, y_encoded)\n",
    "    \n",
    "    # # Dự đoán\n",
    "    y_pred = ann.predict(X_test)\n",
    "    y_pred_labels = le.inverse_transform(y_pred)\n",
    "    \n",
    "    # # In kết quả\n",
    "    print(f\"ANN Predictions for {test_file}:\")\n",
    "    for i, pred in enumerate(y_pred_labels, 1):\n",
    "        print(f\"Sample {i}: {pred}\")\n",
    "    \n",
    "    return y_pred_labels\n"
   ]
  },
  {
   "cell_type": "code",
   "execution_count": 5,
   "id": "3511b59f",
   "metadata": {},
   "outputs": [
    {
     "name": "stdout",
     "output_type": "stream",
     "text": [
      "ANN Predictions for output_2.csv:\n",
      "Sample 1: Iris-setosa\n",
      "Sample 2: Iris-setosa\n",
      "Sample 3: Iris-setosa\n",
      "Sample 4: Iris-setosa\n",
      "Sample 5: Iris-setosa\n",
      "Sample 6: Iris-setosa\n",
      "Sample 7: Iris-setosa\n",
      "Sample 8: Iris-setosa\n",
      "Sample 9: Iris-setosa\n",
      "Sample 10: Iris-setosa\n",
      "Sample 11: Iris-versicolor\n",
      "Sample 12: Iris-versicolor\n",
      "Sample 13: Iris-versicolor\n",
      "Sample 14: Iris-versicolor\n",
      "Sample 15: Iris-versicolor\n",
      "Sample 16: Iris-versicolor\n",
      "Sample 17: Iris-versicolor\n",
      "Sample 18: Iris-versicolor\n",
      "Sample 19: Iris-versicolor\n",
      "Sample 20: Iris-versicolor\n",
      "Sample 21: Iris-versicolor\n",
      "Sample 22: Iris-versicolor\n",
      "Sample 23: Iris-versicolor\n",
      "Sample 24: Iris-virginica\n",
      "Sample 25: Iris-virginica\n",
      "Sample 26: Iris-virginica\n",
      "Sample 27: Iris-virginica\n",
      "Sample 28: Iris-virginica\n",
      "Sample 29: Iris-versicolor\n",
      "Sample 30: Iris-virginica\n"
     ]
    },
    {
     "data": {
      "text/plain": [
       "array(['Iris-setosa', 'Iris-setosa', 'Iris-setosa', 'Iris-setosa',\n",
       "       'Iris-setosa', 'Iris-setosa', 'Iris-setosa', 'Iris-setosa',\n",
       "       'Iris-setosa', 'Iris-setosa', 'Iris-versicolor', 'Iris-versicolor',\n",
       "       'Iris-versicolor', 'Iris-versicolor', 'Iris-versicolor',\n",
       "       'Iris-versicolor', 'Iris-versicolor', 'Iris-versicolor',\n",
       "       'Iris-versicolor', 'Iris-versicolor', 'Iris-versicolor',\n",
       "       'Iris-versicolor', 'Iris-versicolor', 'Iris-virginica',\n",
       "       'Iris-virginica', 'Iris-virginica', 'Iris-virginica',\n",
       "       'Iris-virginica', 'Iris-versicolor', 'Iris-virginica'],\n",
       "      dtype=object)"
      ]
     },
     "execution_count": 5,
     "metadata": {},
     "output_type": "execute_result"
    }
   ],
   "source": [
    "train_file = \"input_2.csv\"\n",
    "test_file = \"output_2.csv\"\n",
    "classify_iris_ann(train_file, test_file)"
   ]
  }
 ],
 "metadata": {
  "kernelspec": {
   "display_name": "venv",
   "language": "python",
   "name": "python3"
  },
  "language_info": {
   "codemirror_mode": {
    "name": "ipython",
    "version": 3
   },
   "file_extension": ".py",
   "mimetype": "text/x-python",
   "name": "python",
   "nbconvert_exporter": "python",
   "pygments_lexer": "ipython3",
   "version": "3.13.1"
  }
 },
 "nbformat": 4,
 "nbformat_minor": 5
}
