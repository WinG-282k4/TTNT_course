{
 "cells": [
  {
   "cell_type": "code",
   "execution_count": 1,
   "id": "0b94cd80",
   "metadata": {},
   "outputs": [],
   "source": [
    "import pandas as pd\n",
    "import numpy as np\n",
    "from collections import Counter\n",
    "from sklearn.preprocessing import StandardScaler"
   ]
  },
  {
   "cell_type": "code",
   "execution_count": 4,
   "id": "ceb277e0",
   "metadata": {},
   "outputs": [],
   "source": [
    "def manhattan_distance(x, y):\n",
    "    \"\"\"Tính khoảng cách Manhattan (slide trang 19)\"\"\"\n",
    "    return sum(abs(a - b) for a, b in zip(x, y))\n",
    "\n",
    "def knn_predict(X_train, y_train, X_test, k=9):\n",
    "    \"\"\"Dự đoán nhãn bằng KNN (slide trang 14)\"\"\"\n",
    "    predictions = []\n",
    "    for test_point in X_test:\n",
    "        distances = [(manhattan_distance(test_point, train_point), label)\n",
    "                     for train_point, label in zip(X_train, y_train)]\n",
    "        distances.sort(key=lambda x: x[0])\n",
    "        k_nearest_labels = [label for _, label in distances[:k]]\n",
    "        most_common = Counter(k_nearest_labels).most_common(1)[0][0]\n",
    "        predictions.append(most_common)\n",
    "    return predictions\n",
    "\n",
    "def classify_iris_knn(train_file, test_file, k=9):\n",
    "    \"\"\"Phân loại hoa Iris bằng KNN với tệp train/test\"\"\"\n",
    "    try:\n",
    "        # Đọc dữ liệu train\n",
    "        train_data = pd.read_csv(train_file, header=None)\n",
    "        X_train = train_data.iloc[:, :-1].values  # 4 đặc trưng\n",
    "        y_train = train_data.iloc[:, -1].values   # Nhãn\n",
    "        \n",
    "        # Đọc dữ liệu test\n",
    "        test_data = pd.read_csv(test_file, header=None)\n",
    "        # Chỉ lấy 4 đặc trưng, bỏ cột nhãn nếu có\n",
    "        X_test = test_data.iloc[:, :4].values\n",
    "        \n",
    "    except FileNotFoundError as e:\n",
    "        print(f\"Error: File not found - {e}\")\n",
    "        return None\n",
    "    except Exception as e:\n",
    "        print(f\"Error reading files: {e}\")\n",
    "        return None\n",
    "    \n",
    "    # Chuẩn hóa dữ liệu (slide trang 23)\n",
    "    scaler = StandardScaler()\n",
    "    X_train = scaler.fit_transform(X_train)\n",
    "    X_test = scaler.transform(X_test)\n",
    "    \n",
    "    # Dự đoán\n",
    "    predictions = knn_predict(X_train, y_train, X_test, k=k)\n",
    "    \n",
    "    # In kết quả\n",
    "    print(f\"KNN Predictions for {test_file}:\")\n",
    "    for i, pred in enumerate(predictions, 1):\n",
    "        print(f\"Sample {i}: {pred}\")\n",
    "    \n",
    "    return predictions"
   ]
  },
  {
   "cell_type": "code",
   "execution_count": 6,
   "id": "33990150",
   "metadata": {},
   "outputs": [
    {
     "name": "stdout",
     "output_type": "stream",
     "text": [
      "KNN Predictions for output_2.csv:\n",
      "Sample 1: Iris-setosa\n",
      "Sample 2: Iris-setosa\n",
      "Sample 3: Iris-setosa\n",
      "Sample 4: Iris-setosa\n",
      "Sample 5: Iris-setosa\n",
      "Sample 6: Iris-setosa\n",
      "Sample 7: Iris-setosa\n",
      "Sample 8: Iris-setosa\n",
      "Sample 9: Iris-setosa\n",
      "Sample 10: Iris-setosa\n",
      "Sample 11: Iris-versicolor\n",
      "Sample 12: Iris-versicolor\n",
      "Sample 13: Iris-versicolor\n",
      "Sample 14: Iris-versicolor\n",
      "Sample 15: Iris-versicolor\n",
      "Sample 16: Iris-versicolor\n",
      "Sample 17: Iris-versicolor\n",
      "Sample 18: Iris-versicolor\n",
      "Sample 19: Iris-versicolor\n",
      "Sample 20: Iris-versicolor\n",
      "Sample 21: Iris-versicolor\n",
      "Sample 22: Iris-versicolor\n",
      "Sample 23: Iris-versicolor\n",
      "Sample 24: Iris-virginica\n",
      "Sample 25: Iris-virginica\n",
      "Sample 26: Iris-virginica\n",
      "Sample 27: Iris-virginica\n",
      "Sample 28: Iris-virginica\n",
      "Sample 29: Iris-versicolor\n",
      "Sample 30: Iris-virginica\n"
     ]
    },
    {
     "data": {
      "text/plain": [
       "['Iris-setosa',\n",
       " 'Iris-setosa',\n",
       " 'Iris-setosa',\n",
       " 'Iris-setosa',\n",
       " 'Iris-setosa',\n",
       " 'Iris-setosa',\n",
       " 'Iris-setosa',\n",
       " 'Iris-setosa',\n",
       " 'Iris-setosa',\n",
       " 'Iris-setosa',\n",
       " 'Iris-versicolor',\n",
       " 'Iris-versicolor',\n",
       " 'Iris-versicolor',\n",
       " 'Iris-versicolor',\n",
       " 'Iris-versicolor',\n",
       " 'Iris-versicolor',\n",
       " 'Iris-versicolor',\n",
       " 'Iris-versicolor',\n",
       " 'Iris-versicolor',\n",
       " 'Iris-versicolor',\n",
       " 'Iris-versicolor',\n",
       " 'Iris-versicolor',\n",
       " 'Iris-versicolor',\n",
       " 'Iris-virginica',\n",
       " 'Iris-virginica',\n",
       " 'Iris-virginica',\n",
       " 'Iris-virginica',\n",
       " 'Iris-virginica',\n",
       " 'Iris-versicolor',\n",
       " 'Iris-virginica']"
      ]
     },
     "execution_count": 6,
     "metadata": {},
     "output_type": "execute_result"
    }
   ],
   "source": [
    "train_file = \"input_2.csv\"\n",
    "test_file = \"output_2.csv\"\n",
    "classify_iris_knn(train_file, test_file)"
   ]
  }
 ],
 "metadata": {
  "kernelspec": {
   "display_name": "venv",
   "language": "python",
   "name": "python3"
  },
  "language_info": {
   "codemirror_mode": {
    "name": "ipython",
    "version": 3
   },
   "file_extension": ".py",
   "mimetype": "text/x-python",
   "name": "python",
   "nbconvert_exporter": "python",
   "pygments_lexer": "ipython3",
   "version": "3.13.1"
  }
 },
 "nbformat": 4,
 "nbformat_minor": 5
}
